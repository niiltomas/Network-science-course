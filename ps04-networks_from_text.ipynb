{
 "cells": [
  {
   "cell_type": "markdown",
   "metadata": {},
   "source": [
    "# Practice Session 04: Networks from text"
   ]
  },
  {
   "cell_type": "markdown",
   "metadata": {},
   "source": [
    "Author: <font color=\"blue\">Nil Tomas Plans</font>\n",
    "\n",
    "E-mail: <font color=\"blue\">nil.tomas01@estudiant.upf.edu</font>\n",
    "\n",
    "Date: <font color=\"blue\">06/10/2023</font>"
   ]
  },
  {
   "cell_type": "markdown",
   "metadata": {},
   "source": [
    "# 1. Create the directed mention network"
   ]
  },
  {
   "cell_type": "code",
   "execution_count": 6,
   "metadata": {
    "tags": []
   },
   "outputs": [],
   "source": [
    "import io\n",
    "import json\n",
    "import gzip\n",
    "import csv\n",
    "import re\n",
    "\n",
    "from IPython.display import Image"
   ]
  },
  {
   "cell_type": "code",
   "execution_count": 11,
   "metadata": {
    "tags": []
   },
   "outputs": [],
   "source": [
    "# Leave this code as-is\n",
    "\n",
    "# Input file\n",
    "COMPRESSED_INPUT_FILENAME = \"CovidLockdownCatalonia.json.gz\"\n",
    "\n",
    "# These are the output files, leave as-is\n",
    "OUTPUT_ALL_EDGES_FILENAME = \"CovidLockdownCatalonia.csv\"\n",
    "OUTPUT_FILTERED_EDGES_FILENAME = \"CovidLockdownCatalonia-min-weight-filtered.csv\"\n",
    "OUTPUT_CO_MENTIONS_FILENAME = \"CovidLockdownCatalonia-co-mentions.csv\""
   ]
  },
  {
   "cell_type": "markdown",
   "metadata": {},
   "source": [
    "## 1.1. Extract mentions"
   ]
  },
  {
   "cell_type": "code",
   "execution_count": 12,
   "metadata": {
    "tags": []
   },
   "outputs": [
    {
     "name": "stdout",
     "output_type": "stream",
     "text": [
      "['DiariDeSabadell', 'EspaiNaturaSbd']\n"
     ]
    }
   ],
   "source": [
    "# Leave this code as-is\n",
    "\n",
    "def extract_mentions(text):\n",
    "    return re.findall(\"@([a-zA-Z0-9_]{5,20})\", text)\n",
    "\n",
    "print(extract_mentions(\"RT @DiariDeSabadell: check this post by @EspaiNaturaSbd\"))"
   ]
  },
  {
   "cell_type": "markdown",
   "metadata": {},
   "source": [
    "## 1.2. Count mentions"
   ]
  },
  {
   "cell_type": "code",
   "execution_count": 13,
   "metadata": {
    "tags": []
   },
   "outputs": [
    {
     "name": "stdout",
     "output_type": "stream",
     "text": [
      "8\n"
     ]
    }
   ],
   "source": [
    "#code to read the compressed input file and create the mentions_counter dictionary.\n",
    "mentions_counter = {}\n",
    "with gzip.open(COMPRESSED_INPUT_FILENAME, \"rt\", encoding=\"utf-8\") as input_file:\n",
    "    for line in input_file:\n",
    "        tweet = json.loads(line)\n",
    "        author = tweet[\"user\"][\"screen_name\"]\n",
    "        message = tweet[\"full_text\"]\n",
    "        \n",
    "        mentions = extract_mentions(message)\n",
    "        for mention in mentions:\n",
    "            key = (author,mention)\n",
    "            if key in mentions_counter:\n",
    "                mentions_counter[key] += 1\n",
    "            else:\n",
    "                mentions_counter[key] = 1\n",
    "\n",
    "print (mentions_counter[(\"BCN_Mobilitat\", \"TMBinfo\")])\n"
   ]
  },
  {
   "cell_type": "code",
   "execution_count": 46,
   "metadata": {
    "tags": []
   },
   "outputs": [
    {
     "name": "stdout",
     "output_type": "stream",
     "text": [
      "La cuenta @ CanalTerrassa y @eseiaat_upc se han mencionado mútuamente\n",
      "La cuenta @ EspaiNaturaSbd y @DiariDeSabadell se han mencionado mútuamente\n",
      "La cuenta @ infolliteras y @infolliteras se han mencionado mútuamente\n",
      "La cuenta @ MuseuMaritim y @MuseuMaritim se han mencionado mútuamente\n",
      "La cuenta @ LaVanguardia y @LaVanguardia se han mencionado mútuamente\n",
      "La cuenta @ josepjover y @josepjover se han mencionado mútuamente\n",
      "La cuenta @ dmegiasuoc y @AuntySue se han mencionado mútuamente\n",
      "La cuenta @ TGNAjuntament y @TGNAjuntament se han mencionado mútuamente\n",
      "La cuenta @ manelmarquez y @manelmarquez se han mencionado mútuamente\n",
      "La cuenta @ armayones y @armayones se han mencionado mútuamente\n",
      "La cuenta @ diaridtarragona y @diaridtarragona se han mencionado mútuamente\n",
      "La cuenta @ nlbigas y @bbglab se han mencionado mútuamente\n",
      "La cuenta @ OscarAllue26 y @Laporteriabtv se han mencionado mútuamente\n",
      "La cuenta @ JuntsxCatBCN y @elsa_artadi se han mencionado mútuamente\n",
      "La cuenta @ MargaXrepublica y @MargaXrepublica se han mencionado mútuamente\n",
      "La cuenta @ spmacg y @thelabcn se han mencionado mútuamente\n",
      "La cuenta @ Goretti75 y @jsurina se han mencionado mútuamente\n",
      "La cuenta @ the_prbb y @ISGLOBALorg se han mencionado mútuamente\n",
      "La cuenta @ pauricoma y @TGNAjuntament se han mencionado mútuamente\n",
      "La cuenta @ Josep_Huguet y @Josep_Huguet se han mencionado mútuamente\n",
      "La cuenta @ AjTaradell y @rtaradell se han mencionado mútuamente\n",
      "La cuenta @ LUISMITHORX y @lox_porn se han mencionado mútuamente\n",
      "La cuenta @ Sala_Trono y @Sala_Trono se han mencionado mútuamente\n",
      "La cuenta @ thoughsob y @thoughsob se han mencionado mútuamente\n",
      "La cuenta @ prodisterrassa y @cursajsocial se han mencionado mútuamente\n",
      "La cuenta @ UrsulaBayer y @UrsulaBayer se han mencionado mútuamente\n",
      "La cuenta @ pinto_mteresa y @ClaudiaRiusL se han mencionado mútuamente\n",
      "La cuenta @ carlosruiztwitt y @ViladecansTweet se han mencionado mútuamente\n"
     ]
    }
   ],
   "source": [
    "#code to print all the pairs of accounts (u,v) in which account u mentioned account v, and account v mentioned account u.\n",
    "mentions_counter = {}\n",
    "mentioned_each_other = set()\n",
    "\n",
    "with gzip.open(COMPRESSED_INPUT_FILENAME, \"rt\", encoding=\"utf-8\") as input_file:\n",
    "    for line in input_file:\n",
    "        tweet = json.loads(line)\n",
    "        author = tweet[\"user\"][\"screen_name\"]\n",
    "        message = tweet[\"full_text\"]\n",
    "        \n",
    "        mentions = extract_mentions(message)\n",
    "        \n",
    "        for mention in mentions:\n",
    "            key = (author, mention)\n",
    "            re_key = (mention, author) #creo una key a l'inrevés\n",
    "            \n",
    "            \n",
    "            if re_key in mentions_counter:#comprovem que la key inversa exista\n",
    "                if re_key not in mentioned_each_other: #si aun no se han mencionado\n",
    "                    print(f\"La cuenta @ {author} y @{mention} se han mencionado mútuamente\")#imprimimos\n",
    "                    mentioned_each_other.add(re_key)#i ara l'afegim\n",
    "            else:#si no existeix la key inversa\n",
    "                if key in mentions_counter: #actualitzem el diccionari\n",
    "                    mentions_counter[key] += 1\n",
    "                else:\n",
    "                    mentions_counter[key] = 1\n",
    "\n",
    "\n"
   ]
  },
  {
   "cell_type": "code",
   "execution_count": 15,
   "metadata": {
    "tags": []
   },
   "outputs": [
    {
     "name": "stdout",
     "output_type": "stream",
     "text": [
      "Wrote 34025 lines to file CovidLockdownCatalonia.csv\n"
     ]
    }
   ],
   "source": [
    "# Leave this code as-is\n",
    "\n",
    "lines_written = 0\n",
    "with io.open(OUTPUT_ALL_EDGES_FILENAME, \"w\") as output_file:\n",
    "    writer = csv.writer(output_file, delimiter='\\t', quotechar='\"', lineterminator='\\n')\n",
    "    writer.writerow([\"Source\", \"Target\", \"Weight\"])\n",
    "    for key in mentions_counter:\n",
    "        author = key[0]\n",
    "        mention = key[1]\n",
    "        weight = mentions_counter[key]\n",
    "        writer.writerow([author, mention, weight])\n",
    "        lines_written += 1\n",
    "        \n",
    "print(\"Wrote %d lines to file %s\" % (lines_written, OUTPUT_ALL_EDGES_FILENAME))"
   ]
  },
  {
   "cell_type": "code",
   "execution_count": 16,
   "metadata": {
    "tags": []
   },
   "outputs": [
    {
     "name": "stdout",
     "output_type": "stream",
     "text": [
      "Wrote 1338 lines to file CovidLockdownCatalonia-min-weight-filtered.csv\n"
     ]
    }
   ],
   "source": [
    "#code to create a file named OUTPUT_FILTERED_EDGES_FILENAME containing all (author, mention) pairs with a value greater or equal to 2\n",
    "lines_written = 0\n",
    "with io.open(OUTPUT_FILTERED_EDGES_FILENAME, \"w\") as output_file:\n",
    "    writer = csv.writer(output_file, delimiter='\\t', quotechar='\"', lineterminator='\\n')\n",
    "    writer.writerow([\"Source\", \"Target\", \"Weight\"])\n",
    "    for key in mentions_counter:\n",
    "        author = key[0]\n",
    "        mention = key[1]\n",
    "        weight = mentions_counter[key]\n",
    "        if weight >=2:#si es cumpleix la condició que es mencionen més de 2 cops\n",
    "            writer.writerow([author, mention, weight])\n",
    "            lines_written += 1\n",
    "        \n",
    "print(\"Wrote %d lines to file %s\" % (lines_written, OUTPUT_FILTERED_EDGES_FILENAME))"
   ]
  },
  {
   "cell_type": "markdown",
   "metadata": {},
   "source": [
    "# 2. Visualize the directed mention network"
   ]
  },
  {
   "cell_type": "markdown",
   "metadata": {},
   "source": [
    "## 2.1. Visualize the largest connected component\n"
   ]
  },
  {
   "cell_type": "markdown",
   "metadata": {
    "tags": []
   },
   "source": [
    "<font size=\"+1\"> La mida d.aquesta component connexa és de 699 nodes, i el percentatge de nodes respecte el graf inicial és del 43,8%. El diametre és igual a 20 </font>"
   ]
  },
  {
   "cell_type": "code",
   "execution_count": 17,
   "metadata": {
    "tags": []
   },
   "outputs": [
    {
     "data": {
      "text/html": [
       "<img src=\"mentions-largest-cc.png\" width=\"1200\"/>"
      ],
      "text/plain": [
       "<IPython.core.display.Image object>"
      ]
     },
     "execution_count": 17,
     "metadata": {},
     "output_type": "execute_result"
    }
   ],
   "source": [
    "# Adjust width/height as needed\n",
    "\n",
    "Image(url=\"mentions-largest-cc.png\", width=1200)"
   ]
  },
  {
   "cell_type": "markdown",
   "metadata": {
    "tags": []
   },
   "source": [
    "<font size=\"+1\">Els perfils que estan més mencionats són: el nacional, QuimTorraiPla, emergenciescat, govern,sanchezcastejon i vilaweb.\n",
    "Aquests van ser molt mencionats durant el període en què es van recollir, durant la pandèmia, i per tant eren el focus de totes les informacions del moment. \n",
    "El president de Catalunya i el dEspanya, el demergenciescat o diaris digitals com són el cas del nacionalcat i vilaweb.\n",
    "També podem observar usuaris que en mencionen molts altres com: emocionycambio, SpanishDan1 principalment. És possible que ho fagin per\n",
    "difondre informació sigui o no certa amb lobjectiu darribar al maxim nombre de gent tant per ajudar i col·laborar o per difondre missatges de por i mites falsos</font>"
   ]
  },
  {
   "cell_type": "markdown",
   "metadata": {},
   "source": [
    "## 2.2. Cluster the largest connected component\n"
   ]
  },
  {
   "cell_type": "markdown",
   "metadata": {
    "tags": []
   },
   "source": [
    "<font size=\"+1\" >En el cluster de @salutcat, alguns altres perfils que hi estan relacionats són la Clínica Teknon i lhospital del mar, pel fet de ser hospitals i necessiten estar al dia de \n",
    "les notícies i canvis dultima hora que es decideixi des del departament de salut. O també la FececFederació (Federació catalana dentitats contra el cancer) o ajuntaments com: el de Castelldefels o Palamós.\n",
    "També, necessiten estar al corrent de les informacions actualitzades per aplicar protocols de confinament com va ser el cas</font>"
   ]
  },
  {
   "cell_type": "markdown",
   "metadata": {},
   "source": [
    "## 2.3. Examine degree distributions"
   ]
  },
  {
   "cell_type": "code",
   "execution_count": 9,
   "metadata": {
    "tags": []
   },
   "outputs": [
    {
     "data": {
      "text/html": [
       "<img src=\"mentions-largest-cc-indegree.png\" width=\"400\"/>"
      ],
      "text/plain": [
       "<IPython.core.display.Image object>"
      ]
     },
     "metadata": {},
     "output_type": "display_data"
    },
    {
     "data": {
      "text/html": [
       "<img src=\"mentions-largest-cc-outdegree.png\" width=\"400\"/>"
      ],
      "text/plain": [
       "<IPython.core.display.Image object>"
      ]
     },
     "metadata": {},
     "output_type": "display_data"
    }
   ],
   "source": [
    "# Adjust width/height as needed\n",
    "\n",
    "display(Image(url=\"mentions-largest-cc-indegree.png\", width=400))\n",
    "\n",
    "display(Image(url=\"mentions-largest-cc-outdegree.png\", width=400))"
   ]
  },
  {
   "cell_type": "markdown",
   "metadata": {},
   "source": [
    "<font size=\"+1\">Des del meu punt de vista aquests dos gràfics mostren els numero de grafs duna banda que tenen vertexs que apunten a ells i per altra banda vèrtexs que surten dells. \n",
    "Aleshores podem extreure que la majoria dels nodes tenen entre 0 i 2 edges que apunten a ells i entre 0 i 2.5 edges que surten dells .</font>"
   ]
  },
  {
   "cell_type": "markdown",
   "metadata": {},
   "source": [
    "# 3. Create the undirected co-mention network"
   ]
  },
  {
   "cell_type": "code",
   "execution_count": 25,
   "metadata": {
    "tags": []
   },
   "outputs": [],
   "source": [
    "#create the co_mentions_counter\n",
    "co_mentions_counter = {}\n",
    "with gzip.open(COMPRESSED_INPUT_FILENAME, \"rt\", encoding=\"utf-8\") as input_file:\n",
    "    for line in input_file:\n",
    "        tweet = json.loads(line)\n",
    "        author = tweet[\"user\"][\"screen_name\"]\n",
    "        message = tweet[\"full_text\"]\n",
    "\n",
    "        mentions=extract_mentions(message)\n",
    "        for mention1 in mentions:\n",
    "            for mention2 in mentions:\n",
    "                if mention1 < mention2:\n",
    "                    key = (mention1, mention2)\n",
    "                    if key in co_mentions_counter:#si es cumpleix la condició actualitzem el diccionari comentions_counter\n",
    "                        co_mentions_counter[key] += 1\n",
    "                    else:\n",
    "                        co_mentions_counter[key] = 1\n",
    "\n",
    "                    \n"
   ]
  },
  {
   "cell_type": "code",
   "execution_count": 26,
   "metadata": {
    "tags": []
   },
   "outputs": [
    {
     "name": "stdout",
     "output_type": "stream",
     "text": [
      "31\n"
     ]
    }
   ],
   "source": [
    "# KEEP AS-IS\n",
    "\n",
    "print(co_mentions_counter[('emergenciescat', 'govern')])"
   ]
  },
  {
   "cell_type": "code",
   "execution_count": 39,
   "metadata": {
    "tags": []
   },
   "outputs": [
    {
     "name": "stdout",
     "output_type": "stream",
     "text": [
      "co-mentioned  VilaWeb con mossos  un total de  20  cops\n",
      "co-mentioned  QuimTorraiPla con govern  un total de  92  cops\n",
      "co-mentioned  sanchezcastejon con tjparfitt  un total de  28  cops\n",
      "co-mentioned  elnacionalcat con joseantich  un total de  90  cops\n",
      "co-mentioned  QuimTorraiPla con tjparfitt  un total de  59  cops\n",
      "co-mentioned  QuimTorraiPla con sanchezcastejon  un total de  25  cops\n",
      "co-mentioned  emergenciescat con govern  un total de  31  cops\n",
      "co-mentioned  josepcosta con sanchezcastejon  un total de  49  cops\n",
      "co-mentioned  eldiarioes con iescolar  un total de  28  cops\n",
      "co-mentioned  gencat con govern  un total de  105  cops\n",
      "co-mentioned  mossos con semgencat  un total de  44  cops\n",
      "co-mentioned  elnacionalcat con juansrod1  un total de  30  cops\n",
      "co-mentioned  QuimTorraiPla con emergenciescat  un total de  75  cops\n",
      "co-mentioned  Antoni_Gelonch con sanchezcastejon  un total de  106  cops\n"
     ]
    }
   ],
   "source": [
    "#print all pairs of accounts that have been co-mentioned 20 times or more.\n",
    "for key, contar in co_mentions_counter.items(): #va iterant key i contar \n",
    "    account1,account2=key #assigno a cada account un usuari de la tupla\n",
    "    if contar >= 20:\n",
    "        print(\"co-mentioned \",account1 ,\"con\",account2,\" un total de \",contar,\" cops\")\n",
    "        "
   ]
  },
  {
   "cell_type": "code",
   "execution_count": 42,
   "metadata": {
    "tags": []
   },
   "outputs": [
    {
     "name": "stdout",
     "output_type": "stream",
     "text": [
      "Wrote 7816 lines to file CovidLockdownCatalonia-co-mentions.csv\n"
     ]
    }
   ],
   "source": [
    "lines_written = 0\n",
    "with io.open(OUTPUT_CO_MENTIONS_FILENAME, \"w\") as output_file:\n",
    "    writer = csv.writer(output_file, delimiter='\\t', quotechar='\"', lineterminator='\\n')\n",
    "    writer.writerow([\"Source\", \"Target\", \"Weight\"])\n",
    "    for key in co_mentions_counter:\n",
    "        author = key[0]\n",
    "        mention = key[1]\n",
    "        weight = co_mentions_counter[key]\n",
    "        writer.writerow([author, mention, weight])\n",
    "        lines_written += 1\n",
    "        \n",
    "print(\"Wrote %d lines to file %s\" % (lines_written, OUTPUT_CO_MENTIONS_FILENAME))"
   ]
  },
  {
   "cell_type": "markdown",
   "metadata": {},
   "source": [
    "# 4. Visualize the undirected co-mention network in Cytoscape\n"
   ]
  },
  {
   "cell_type": "code",
   "execution_count": 43,
   "metadata": {
    "tags": []
   },
   "outputs": [
    {
     "data": {
      "text/html": [
       "<img src=\"co-mentions-min-degree-15.png\" width=\"1200\"/>"
      ],
      "text/plain": [
       "<IPython.core.display.Image object>"
      ]
     },
     "execution_count": 43,
     "metadata": {},
     "output_type": "execute_result"
    }
   ],
   "source": [
    "# Adjust width/height as needed\n",
    "\n",
    "Image(url=\"co-mentions-min-degree-15.png\", width=1200)"
   ]
  },
  {
   "cell_type": "markdown",
   "metadata": {},
   "source": [
    "<font size=\"+1\">La comunitat o subgraf que he triat està situat al lateral esquerre formant una esfera. Està formada per usuaris que cadascun representa un diari, com per exemple newYorkTimes11, LeMondefr, o la BBCScotlandNews. Per tant tots estan molt relacionats entre ells, ja que tots tenen com a funció principal informar a la població. Una altra comunitat de nodes, però que no són subgrafs, són els usuaris de emergenciescat, govern, gencat, QuimTorraiPla en què tots formen part del govern de catalunya d'alguna forma o altre i per tant estan interrelacionats.</font>"
   ]
  },
  {
   "cell_type": "markdown",
   "metadata": {},
   "source": [
    "\n",
    "# DELIVER (individually)\n",
    "\n",
    "Deliver a zip file containing:\n",
    "\n",
    "* Your code as a Python notebook (a `.ipynb` file).\n",
    "   * Remove all unnecessary elements\n",
    "   * Add comments when needed\n",
    "* Any png files that you inserted in the notebook\n",
    "\n",
    "## Extra points available\n",
    "\n",
    "For more learning and extra points, create a file `account-type.csv` containing the type of account of the top 50 accounts with the most mentions. You can use types \"journalist\", \"media\", \"politician\", \"government institution\", \"individual\", \"health-related\", etc. which you should categorize manually. Create a visualization of the **mentions** graph either including only these 50 accounts, or including more accounts but highlighting these top 50 with colors. Use broad categories as needed and **do not worry if there are some ambiguities in the categorization,** e.g., if you are not 100% sure on whether someone should be in one category or another; just do your best.\n",
    "\n",
    "**Note:** if you go for the extra points, add ``<font size=\"+2\" color=\"blue\">Additional results: account types</font>`` at the top of your notebook.\n",
    "\n",
    "<font size=\"-1\" color=\"gray\">(Remove this cell when delivering.)</font>\n"
   ]
  },
  {
   "cell_type": "markdown",
   "metadata": {},
   "source": [
    "<font size=\"+2\" color=\"#003300\">I hereby declare that, except for the code provided by the course instructors, all of my code, text, and figures were produced by myself.</font>\n"
   ]
  }
 ],
 "metadata": {
  "kernelspec": {
   "display_name": "Python 3 (ipykernel)",
   "language": "python",
   "name": "python3"
  },
  "language_info": {
   "codemirror_mode": {
    "name": "ipython",
    "version": 3
   },
   "file_extension": ".py",
   "mimetype": "text/x-python",
   "name": "python",
   "nbconvert_exporter": "python",
   "pygments_lexer": "ipython3",
   "version": "3.11.5"
  }
 },
 "nbformat": 4,
 "nbformat_minor": 4
}
